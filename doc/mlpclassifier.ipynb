{
 "cells": [
  {
   "cell_type": "code",
   "execution_count": 29,
   "metadata": {},
   "outputs": [],
   "source": [
    "import pandas as pd\n",
    "import numpy as np\n",
    "import matplotlib.pyplot as plt\n",
    "from pandas import DataFrame\n",
    "import sklearn.neural_network\n",
    "from sklearn.neural_network import MLPClassifier\n",
    "from sklearn import cross_validation, metrics "
   ]
  },
  {
   "cell_type": "code",
   "execution_count": null,
   "metadata": {
    "collapsed": true
   },
   "outputs": [],
   "source": [
    "input_path1 = '/Users/linhan/Desktop/semester 3/ADS/Fall2017-project3-fall2017-project3-grp7/output/hsv_training.csv'\n",
    "training1 = pd.read_csv(input_path1)\n",
    "input_path2 = '/Users/linhan/Desktop/semester 3/ADS/Fall2017-project3-fall2017-project3-grp7/output/hsv_testing.csv'\n",
    "testing1= pd.read_csv(input_path2)\n",
    "input_path3 = '/Users/linhan/Desktop/semester 3/ADS/Fall2017-project3-fall2017-project3-grp7/output/hsv_feature.csv'\n",
    "data1 = pd.read_csv(input_path3)"
   ]
  },
  {
   "cell_type": "code",
   "execution_count": 30,
   "metadata": {
    "collapsed": true
   },
   "outputs": [],
   "source": [
    "input_path1 = '/Users/linhan/Desktop/semester 3/ADS/Fall2017-project3-fall2017-project3-grp7/output/hsv_training.csv'\n",
    "training1 = pd.read_csv(input_path1)\n",
    "input_path2 = '/Users/linhan/Desktop/semester 3/ADS/Fall2017-project3-fall2017-project3-grp7/output/hsv_testing.csv'\n",
    "testing1= pd.read_csv(input_path2)\n",
    "input_path3 = '/Users/linhan/Desktop/semester 3/ADS/Fall2017-project3-fall2017-project3-grp7/output/hsv_feature.csv'\n",
    "data1 = pd.read_csv(input_path3)"
   ]
  },
  {
   "cell_type": "code",
   "execution_count": 31,
   "metadata": {
    "collapsed": true
   },
   "outputs": [],
   "source": [
    "input_path11 = '/Users/linhan/Desktop/semester 3/ADS/Fall2017-project3-fall2017-project3-grp7/output/rgb_training1.csv'\n",
    "training2 = pd.read_csv(input_path11)\n",
    "input_path22 = '/Users/linhan/Desktop/semester 3/ADS/Fall2017-project3-fall2017-project3-grp7/output/rgb_testing1.csv'\n",
    "testing2= pd.read_csv(input_path22)\n",
    "input_path33 = '/Users/linhan/Desktop/semester 3/ADS/Fall2017-project3-fall2017-project3-grp7/output/rgb_feature1.csv'\n",
    "data2 = pd.read_csv(input_path33)"
   ]
  },
  {
   "cell_type": "code",
   "execution_count": 32,
   "metadata": {
    "collapsed": true
   },
   "outputs": [],
   "source": [
    "input_path111 = '/Users/linhan/Desktop/semester 3/ADS/Fall2017-project3-fall2017-project3-grp7/output/hog_training.csv'\n",
    "training3 = pd.read_csv(input_path111)\n",
    "input_path222 = '/Users/linhan/Desktop/semester 3/ADS/Fall2017-project3-fall2017-project3-grp7/output/hog_testing.csv'\n",
    "testing3= pd.read_csv(input_path222)\n",
    "input_path333 = '/Users/linhan/Desktop/semester 3/ADS/Fall2017-project3-fall2017-project3-grp7/output/hog_feature.csv'\n",
    "data3 = pd.read_csv(input_path333)"
   ]
  },
  {
   "cell_type": "code",
   "execution_count": 46,
   "metadata": {
    "collapsed": true
   },
   "outputs": [],
   "source": [
    "input_path1111 = '/Users/linhan/Desktop/semester 3/ADS/Fall2017-project3-fall2017-project3-grp7/output/sift_training.csv'\n",
    "training4 = pd.read_csv(input_path1111)\n",
    "input_path2222 = '/Users/linhan/Desktop/semester 3/ADS/Fall2017-project3-fall2017-project3-grp7/output/sift_testing.csv'\n",
    "testing4= pd.read_csv(input_path2222)\n",
    "input_path3333 = '/Users/linhan/Desktop/semester 3/ADS/Fall2017-project3-fall2017-project3-grp7/output/sift_feature.csv'\n",
    "data4 = pd.read_csv(input_path3333)"
   ]
  },
  {
   "cell_type": "code",
   "execution_count": 33,
   "metadata": {
    "collapsed": true
   },
   "outputs": [],
   "source": [
    "#input_path1 = '/Users/linhan/Desktop/Fall2017-project3-fall2017-project3-grp7/data/training.csv'\n",
    "#training = pd.read_csv(input_path1)\n",
    "#input_path2 = '/Users/linhan/Desktop/Fall2017-project3-fall2017-project3-grp7/data/testing.csv'\n",
    "#testing= pd.read_csv(input_path2)\n",
    "#input_path3 = '/Users/linhan/Desktop/Fall2017-project3-fall2017-project3-grp7/data/alldata.csv'\n",
    "#data = pd.read_csv(input_path3)"
   ]
  },
  {
   "cell_type": "code",
   "execution_count": 34,
   "metadata": {
    "collapsed": true
   },
   "outputs": [],
   "source": [
    "#colsToDrop = ['Unnamed: 0']\n",
    "#training = training.drop(colsToDrop, axis=1)\n",
    "#testing= testing.drop(colsToDrop, axis=1)\n",
    "#data= data.drop(colsToDrop, axis=1)"
   ]
  },
  {
   "cell_type": "code",
   "execution_count": 35,
   "metadata": {},
   "outputs": [
    {
     "data": {
      "text/html": [
       "<div>\n",
       "<style>\n",
       "    .dataframe thead tr:only-child th {\n",
       "        text-align: right;\n",
       "    }\n",
       "\n",
       "    .dataframe thead th {\n",
       "        text-align: left;\n",
       "    }\n",
       "\n",
       "    .dataframe tbody tr th {\n",
       "        vertical-align: top;\n",
       "    }\n",
       "</style>\n",
       "<table border=\"1\" class=\"dataframe\">\n",
       "  <thead>\n",
       "    <tr style=\"text-align: right;\">\n",
       "      <th></th>\n",
       "      <th>V1</th>\n",
       "      <th>V2</th>\n",
       "      <th>V3</th>\n",
       "      <th>V4</th>\n",
       "      <th>V5</th>\n",
       "      <th>V6</th>\n",
       "      <th>V7</th>\n",
       "      <th>V8</th>\n",
       "      <th>V9</th>\n",
       "      <th>V10</th>\n",
       "      <th>...</th>\n",
       "      <th>V1432</th>\n",
       "      <th>V1433</th>\n",
       "      <th>V1434</th>\n",
       "      <th>V1435</th>\n",
       "      <th>V1436</th>\n",
       "      <th>V1437</th>\n",
       "      <th>V1438</th>\n",
       "      <th>V1439</th>\n",
       "      <th>V1440</th>\n",
       "      <th>y</th>\n",
       "    </tr>\n",
       "  </thead>\n",
       "  <tbody>\n",
       "    <tr>\n",
       "      <th>0</th>\n",
       "      <td>0.075671</td>\n",
       "      <td>0.026681</td>\n",
       "      <td>0.023827</td>\n",
       "      <td>0.015444</td>\n",
       "      <td>0.003631</td>\n",
       "      <td>0.000492</td>\n",
       "      <td>0.000085</td>\n",
       "      <td>0.0</td>\n",
       "      <td>0.0</td>\n",
       "      <td>0.0</td>\n",
       "      <td>...</td>\n",
       "      <td>0.0</td>\n",
       "      <td>0.0</td>\n",
       "      <td>0.0</td>\n",
       "      <td>0.0</td>\n",
       "      <td>0.0</td>\n",
       "      <td>0.0</td>\n",
       "      <td>0.0</td>\n",
       "      <td>0.000005</td>\n",
       "      <td>0.000000</td>\n",
       "      <td>1</td>\n",
       "    </tr>\n",
       "    <tr>\n",
       "      <th>1</th>\n",
       "      <td>0.011624</td>\n",
       "      <td>0.005206</td>\n",
       "      <td>0.000159</td>\n",
       "      <td>0.000000</td>\n",
       "      <td>0.000000</td>\n",
       "      <td>0.000000</td>\n",
       "      <td>0.000000</td>\n",
       "      <td>0.0</td>\n",
       "      <td>0.0</td>\n",
       "      <td>0.0</td>\n",
       "      <td>...</td>\n",
       "      <td>0.0</td>\n",
       "      <td>0.0</td>\n",
       "      <td>0.0</td>\n",
       "      <td>0.0</td>\n",
       "      <td>0.0</td>\n",
       "      <td>0.0</td>\n",
       "      <td>0.0</td>\n",
       "      <td>0.000040</td>\n",
       "      <td>0.000199</td>\n",
       "      <td>0</td>\n",
       "    </tr>\n",
       "    <tr>\n",
       "      <th>2</th>\n",
       "      <td>0.001745</td>\n",
       "      <td>0.004902</td>\n",
       "      <td>0.004713</td>\n",
       "      <td>0.002214</td>\n",
       "      <td>0.000499</td>\n",
       "      <td>0.000242</td>\n",
       "      <td>0.000010</td>\n",
       "      <td>0.0</td>\n",
       "      <td>0.0</td>\n",
       "      <td>0.0</td>\n",
       "      <td>...</td>\n",
       "      <td>0.0</td>\n",
       "      <td>0.0</td>\n",
       "      <td>0.0</td>\n",
       "      <td>0.0</td>\n",
       "      <td>0.0</td>\n",
       "      <td>0.0</td>\n",
       "      <td>0.0</td>\n",
       "      <td>0.000540</td>\n",
       "      <td>0.000075</td>\n",
       "      <td>1</td>\n",
       "    </tr>\n",
       "    <tr>\n",
       "      <th>3</th>\n",
       "      <td>0.103464</td>\n",
       "      <td>0.014666</td>\n",
       "      <td>0.001175</td>\n",
       "      <td>0.000097</td>\n",
       "      <td>0.000000</td>\n",
       "      <td>0.000000</td>\n",
       "      <td>0.000000</td>\n",
       "      <td>0.0</td>\n",
       "      <td>0.0</td>\n",
       "      <td>0.0</td>\n",
       "      <td>...</td>\n",
       "      <td>0.0</td>\n",
       "      <td>0.0</td>\n",
       "      <td>0.0</td>\n",
       "      <td>0.0</td>\n",
       "      <td>0.0</td>\n",
       "      <td>0.0</td>\n",
       "      <td>0.0</td>\n",
       "      <td>0.000354</td>\n",
       "      <td>0.000000</td>\n",
       "      <td>0</td>\n",
       "    </tr>\n",
       "    <tr>\n",
       "      <th>4</th>\n",
       "      <td>0.000000</td>\n",
       "      <td>0.000012</td>\n",
       "      <td>0.000010</td>\n",
       "      <td>0.000000</td>\n",
       "      <td>0.000000</td>\n",
       "      <td>0.000000</td>\n",
       "      <td>0.000000</td>\n",
       "      <td>0.0</td>\n",
       "      <td>0.0</td>\n",
       "      <td>0.0</td>\n",
       "      <td>...</td>\n",
       "      <td>0.0</td>\n",
       "      <td>0.0</td>\n",
       "      <td>0.0</td>\n",
       "      <td>0.0</td>\n",
       "      <td>0.0</td>\n",
       "      <td>0.0</td>\n",
       "      <td>0.0</td>\n",
       "      <td>0.000408</td>\n",
       "      <td>0.019626</td>\n",
       "      <td>1</td>\n",
       "    </tr>\n",
       "  </tbody>\n",
       "</table>\n",
       "<p>5 rows × 1441 columns</p>\n",
       "</div>"
      ],
      "text/plain": [
       "         V1        V2        V3        V4        V5        V6        V7   V8  \\\n",
       "0  0.075671  0.026681  0.023827  0.015444  0.003631  0.000492  0.000085  0.0   \n",
       "1  0.011624  0.005206  0.000159  0.000000  0.000000  0.000000  0.000000  0.0   \n",
       "2  0.001745  0.004902  0.004713  0.002214  0.000499  0.000242  0.000010  0.0   \n",
       "3  0.103464  0.014666  0.001175  0.000097  0.000000  0.000000  0.000000  0.0   \n",
       "4  0.000000  0.000012  0.000010  0.000000  0.000000  0.000000  0.000000  0.0   \n",
       "\n",
       "    V9  V10 ...  V1432  V1433  V1434  V1435  V1436  V1437  V1438     V1439  \\\n",
       "0  0.0  0.0 ...    0.0    0.0    0.0    0.0    0.0    0.0    0.0  0.000005   \n",
       "1  0.0  0.0 ...    0.0    0.0    0.0    0.0    0.0    0.0    0.0  0.000040   \n",
       "2  0.0  0.0 ...    0.0    0.0    0.0    0.0    0.0    0.0    0.0  0.000540   \n",
       "3  0.0  0.0 ...    0.0    0.0    0.0    0.0    0.0    0.0    0.0  0.000354   \n",
       "4  0.0  0.0 ...    0.0    0.0    0.0    0.0    0.0    0.0    0.0  0.000408   \n",
       "\n",
       "      V1440  y  \n",
       "0  0.000000  1  \n",
       "1  0.000199  0  \n",
       "2  0.000075  1  \n",
       "3  0.000000  0  \n",
       "4  0.019626  1  \n",
       "\n",
       "[5 rows x 1441 columns]"
      ]
     },
     "execution_count": 35,
     "metadata": {},
     "output_type": "execute_result"
    }
   ],
   "source": [
    "training.head()"
   ]
  },
  {
   "cell_type": "code",
   "execution_count": 36,
   "metadata": {
    "collapsed": true
   },
   "outputs": [],
   "source": [
    "####Cross-Validation Method\n",
    "def model_performance(alg, data, dtrain, dtest, predictors, performCV= True, printFeatureImportance= True, cv_folds=10):\n",
    "    #Fit the algorithm on the data\n",
    "    alg.fit(dtrain[predictors], dtrain['y'])\n",
    "        \n",
    "    dtrain_predictions = alg.predict(dtrain[predictors])\n",
    "    dtest_predictions = alg.predict(dtest[predictors])\n",
    "    \n",
    "    #Perform cross-validation:\n",
    "    if performCV:\n",
    "        cv_score = cross_validation.cross_val_score(alg, data[predictors], data['y'], cv=cv_folds)\n",
    "    \n",
    "    #Print model report:\n",
    "    print (\"\\nModel Report\")\n",
    "    print (\"Accuracy(train): %.4g\" % metrics.accuracy_score(dtrain['y'].values, dtrain_predictions))\n",
    "    print (\"Accuracy(test) : %.4g\" % metrics.accuracy_score(dtest['y'].values, dtest_predictions))\n",
    "    if performCV:\n",
    "        print (\"CV Score : Mean - %.7g | Std - %.7g \" % (np.mean(cv_score),np.std(cv_score)))"
   ]
  },
  {
   "cell_type": "code",
   "execution_count": 48,
   "metadata": {
    "collapsed": true
   },
   "outputs": [],
   "source": [
    "target = 'y'\n",
    "IDcol = 'ID'\n",
    "pred1 = [x for x in training1.columns if x not in [target, IDcol]]\n",
    "pred2 = [x for x in training2.columns if x not in [target, IDcol]]\n",
    "pred3 = [x for x in training3.columns if x not in [target, IDcol]]\n",
    "pred4 = [x for x in training4.columns if x not in [target, IDcol]]"
   ]
  },
  {
   "cell_type": "code",
   "execution_count": 49,
   "metadata": {},
   "outputs": [
    {
     "data": {
      "text/plain": [
       "360"
      ]
     },
     "execution_count": 49,
     "metadata": {},
     "output_type": "execute_result"
    }
   ],
   "source": [
    "len(pred1)"
   ]
  },
  {
   "cell_type": "code",
   "execution_count": 50,
   "metadata": {},
   "outputs": [
    {
     "data": {
      "text/plain": [
       "1440"
      ]
     },
     "execution_count": 50,
     "metadata": {},
     "output_type": "execute_result"
    }
   ],
   "source": [
    "len(pred2)"
   ]
  },
  {
   "cell_type": "code",
   "execution_count": 51,
   "metadata": {},
   "outputs": [
    {
     "data": {
      "text/plain": [
       "576"
      ]
     },
     "execution_count": 51,
     "metadata": {},
     "output_type": "execute_result"
    }
   ],
   "source": [
    "len(pred3)"
   ]
  },
  {
   "cell_type": "code",
   "execution_count": 52,
   "metadata": {},
   "outputs": [
    {
     "data": {
      "text/plain": [
       "5000"
      ]
     },
     "execution_count": 52,
     "metadata": {},
     "output_type": "execute_result"
    }
   ],
   "source": [
    "len(pred4)"
   ]
  },
  {
   "cell_type": "code",
   "execution_count": 58,
   "metadata": {},
   "outputs": [],
   "source": [
    "mlp = MLPClassifier(hidden_layer_sizes=(150,10), activation='relu', solver='adam', alpha=0.0001, \n",
    "                    batch_size='auto', learning_rate='constant', learning_rate_init=0.001, power_t=0.5, max_iter= 500, \n",
    "                    shuffle=False, random_state=50, tol=0.0001, verbose=False, warm_start=False, momentum=0.9,\n",
    "                    nesterovs_momentum=True, early_stopping=False, validation_fraction=0.1, \n",
    "                    beta_1=0.9, beta_2=0.999,epsilon=1e-08)"
   ]
  },
  {
   "cell_type": "code",
   "execution_count": 43,
   "metadata": {},
   "outputs": [
    {
     "name": "stderr",
     "output_type": "stream",
     "text": [
      "/anaconda/lib/python3.6/site-packages/sklearn/neural_network/multilayer_perceptron.py:563: ConvergenceWarning: Stochastic Optimizer: Maximum iterations reached and the optimization hasn't converged yet.\n",
      "  % (), ConvergenceWarning)\n",
      "/anaconda/lib/python3.6/site-packages/sklearn/neural_network/multilayer_perceptron.py:563: ConvergenceWarning: Stochastic Optimizer: Maximum iterations reached and the optimization hasn't converged yet.\n",
      "  % (), ConvergenceWarning)\n",
      "/anaconda/lib/python3.6/site-packages/sklearn/neural_network/multilayer_perceptron.py:563: ConvergenceWarning: Stochastic Optimizer: Maximum iterations reached and the optimization hasn't converged yet.\n",
      "  % (), ConvergenceWarning)\n",
      "/anaconda/lib/python3.6/site-packages/sklearn/neural_network/multilayer_perceptron.py:563: ConvergenceWarning: Stochastic Optimizer: Maximum iterations reached and the optimization hasn't converged yet.\n",
      "  % (), ConvergenceWarning)\n",
      "/anaconda/lib/python3.6/site-packages/sklearn/neural_network/multilayer_perceptron.py:563: ConvergenceWarning: Stochastic Optimizer: Maximum iterations reached and the optimization hasn't converged yet.\n",
      "  % (), ConvergenceWarning)\n",
      "/anaconda/lib/python3.6/site-packages/sklearn/neural_network/multilayer_perceptron.py:563: ConvergenceWarning: Stochastic Optimizer: Maximum iterations reached and the optimization hasn't converged yet.\n",
      "  % (), ConvergenceWarning)\n",
      "/anaconda/lib/python3.6/site-packages/sklearn/neural_network/multilayer_perceptron.py:563: ConvergenceWarning: Stochastic Optimizer: Maximum iterations reached and the optimization hasn't converged yet.\n",
      "  % (), ConvergenceWarning)\n",
      "/anaconda/lib/python3.6/site-packages/sklearn/neural_network/multilayer_perceptron.py:563: ConvergenceWarning: Stochastic Optimizer: Maximum iterations reached and the optimization hasn't converged yet.\n",
      "  % (), ConvergenceWarning)\n",
      "/anaconda/lib/python3.6/site-packages/sklearn/neural_network/multilayer_perceptron.py:563: ConvergenceWarning: Stochastic Optimizer: Maximum iterations reached and the optimization hasn't converged yet.\n",
      "  % (), ConvergenceWarning)\n"
     ]
    },
    {
     "name": "stdout",
     "output_type": "stream",
     "text": [
      "\n",
      "Model Report\n",
      "Accuracy(train): 0.89\n",
      "Accuracy(test) : 0.7356\n",
      "CV Score : Mean - 0.7663333 | Std - 0.026602 \n"
     ]
    },
    {
     "name": "stderr",
     "output_type": "stream",
     "text": [
      "/anaconda/lib/python3.6/site-packages/sklearn/neural_network/multilayer_perceptron.py:563: ConvergenceWarning: Stochastic Optimizer: Maximum iterations reached and the optimization hasn't converged yet.\n",
      "  % (), ConvergenceWarning)\n"
     ]
    }
   ],
   "source": [
    "#########################HSV FEATURE################################\n",
    "print(\"HSV Feature\")\n",
    "model_performance(mlp, data=data1, dtrain=training1, dtest=testing1, predictors=pred1)"
   ]
  },
  {
   "cell_type": "code",
   "execution_count": 44,
   "metadata": {},
   "outputs": [
    {
     "name": "stderr",
     "output_type": "stream",
     "text": [
      "/anaconda/lib/python3.6/site-packages/sklearn/neural_network/multilayer_perceptron.py:563: ConvergenceWarning: Stochastic Optimizer: Maximum iterations reached and the optimization hasn't converged yet.\n",
      "  % (), ConvergenceWarning)\n",
      "/anaconda/lib/python3.6/site-packages/sklearn/neural_network/multilayer_perceptron.py:563: ConvergenceWarning: Stochastic Optimizer: Maximum iterations reached and the optimization hasn't converged yet.\n",
      "  % (), ConvergenceWarning)\n",
      "/anaconda/lib/python3.6/site-packages/sklearn/neural_network/multilayer_perceptron.py:563: ConvergenceWarning: Stochastic Optimizer: Maximum iterations reached and the optimization hasn't converged yet.\n",
      "  % (), ConvergenceWarning)\n",
      "/anaconda/lib/python3.6/site-packages/sklearn/neural_network/multilayer_perceptron.py:563: ConvergenceWarning: Stochastic Optimizer: Maximum iterations reached and the optimization hasn't converged yet.\n",
      "  % (), ConvergenceWarning)\n",
      "/anaconda/lib/python3.6/site-packages/sklearn/neural_network/multilayer_perceptron.py:563: ConvergenceWarning: Stochastic Optimizer: Maximum iterations reached and the optimization hasn't converged yet.\n",
      "  % (), ConvergenceWarning)\n",
      "/anaconda/lib/python3.6/site-packages/sklearn/neural_network/multilayer_perceptron.py:563: ConvergenceWarning: Stochastic Optimizer: Maximum iterations reached and the optimization hasn't converged yet.\n",
      "  % (), ConvergenceWarning)\n",
      "/anaconda/lib/python3.6/site-packages/sklearn/neural_network/multilayer_perceptron.py:563: ConvergenceWarning: Stochastic Optimizer: Maximum iterations reached and the optimization hasn't converged yet.\n",
      "  % (), ConvergenceWarning)\n",
      "/anaconda/lib/python3.6/site-packages/sklearn/neural_network/multilayer_perceptron.py:563: ConvergenceWarning: Stochastic Optimizer: Maximum iterations reached and the optimization hasn't converged yet.\n",
      "  % (), ConvergenceWarning)\n",
      "/anaconda/lib/python3.6/site-packages/sklearn/neural_network/multilayer_perceptron.py:563: ConvergenceWarning: Stochastic Optimizer: Maximum iterations reached and the optimization hasn't converged yet.\n",
      "  % (), ConvergenceWarning)\n",
      "/anaconda/lib/python3.6/site-packages/sklearn/neural_network/multilayer_perceptron.py:563: ConvergenceWarning: Stochastic Optimizer: Maximum iterations reached and the optimization hasn't converged yet.\n",
      "  % (), ConvergenceWarning)\n"
     ]
    },
    {
     "name": "stdout",
     "output_type": "stream",
     "text": [
      "\n",
      "Model Report\n",
      "Accuracy(train): 0.9576\n",
      "Accuracy(test) : 0.73\n",
      "CV Score : Mean - 0.7566667 | Std - 0.01712698 \n"
     ]
    },
    {
     "name": "stderr",
     "output_type": "stream",
     "text": [
      "/anaconda/lib/python3.6/site-packages/sklearn/neural_network/multilayer_perceptron.py:563: ConvergenceWarning: Stochastic Optimizer: Maximum iterations reached and the optimization hasn't converged yet.\n",
      "  % (), ConvergenceWarning)\n"
     ]
    }
   ],
   "source": [
    "#############################RGB1 FEATURE################################\n",
    "print(\"RGB1 Feature\")\n",
    "model_performance(mlp, data=data2, dtrain=training2, dtest=testing2, predictors=pred2)"
   ]
  },
  {
   "cell_type": "code",
   "execution_count": 59,
   "metadata": {},
   "outputs": [
    {
     "name": "stdout",
     "output_type": "stream",
     "text": [
      "\n",
      "Model Report\n",
      "Accuracy(train): 0.8486\n",
      "Accuracy(test) : 0.8044\n",
      "CV Score : Mean - 0.8223333 | Std - 0.01468559 \n",
      "The results of HOG Feature\n"
     ]
    }
   ],
   "source": [
    "#######################################HOG FEATURE########################################\n",
    "model_performance(mlp, data=data3, dtrain=training3, dtest=testing3, predictors=pred3)\n",
    "print(\"The results of HOG Feature\")"
   ]
  },
  {
   "cell_type": "code",
   "execution_count": 53,
   "metadata": {},
   "outputs": [
    {
     "name": "stdout",
     "output_type": "stream",
     "text": [
      "SIFT Feature\n"
     ]
    },
    {
     "name": "stderr",
     "output_type": "stream",
     "text": [
      "/anaconda/lib/python3.6/site-packages/sklearn/neural_network/multilayer_perceptron.py:563: ConvergenceWarning: Stochastic Optimizer: Maximum iterations reached and the optimization hasn't converged yet.\n",
      "  % (), ConvergenceWarning)\n",
      "/anaconda/lib/python3.6/site-packages/sklearn/neural_network/multilayer_perceptron.py:563: ConvergenceWarning: Stochastic Optimizer: Maximum iterations reached and the optimization hasn't converged yet.\n",
      "  % (), ConvergenceWarning)\n",
      "/anaconda/lib/python3.6/site-packages/sklearn/neural_network/multilayer_perceptron.py:563: ConvergenceWarning: Stochastic Optimizer: Maximum iterations reached and the optimization hasn't converged yet.\n",
      "  % (), ConvergenceWarning)\n",
      "/anaconda/lib/python3.6/site-packages/sklearn/neural_network/multilayer_perceptron.py:563: ConvergenceWarning: Stochastic Optimizer: Maximum iterations reached and the optimization hasn't converged yet.\n",
      "  % (), ConvergenceWarning)\n",
      "/anaconda/lib/python3.6/site-packages/sklearn/neural_network/multilayer_perceptron.py:563: ConvergenceWarning: Stochastic Optimizer: Maximum iterations reached and the optimization hasn't converged yet.\n",
      "  % (), ConvergenceWarning)\n",
      "/anaconda/lib/python3.6/site-packages/sklearn/neural_network/multilayer_perceptron.py:563: ConvergenceWarning: Stochastic Optimizer: Maximum iterations reached and the optimization hasn't converged yet.\n",
      "  % (), ConvergenceWarning)\n",
      "/anaconda/lib/python3.6/site-packages/sklearn/neural_network/multilayer_perceptron.py:563: ConvergenceWarning: Stochastic Optimizer: Maximum iterations reached and the optimization hasn't converged yet.\n",
      "  % (), ConvergenceWarning)\n",
      "/anaconda/lib/python3.6/site-packages/sklearn/neural_network/multilayer_perceptron.py:563: ConvergenceWarning: Stochastic Optimizer: Maximum iterations reached and the optimization hasn't converged yet.\n",
      "  % (), ConvergenceWarning)\n",
      "/anaconda/lib/python3.6/site-packages/sklearn/neural_network/multilayer_perceptron.py:563: ConvergenceWarning: Stochastic Optimizer: Maximum iterations reached and the optimization hasn't converged yet.\n",
      "  % (), ConvergenceWarning)\n",
      "/anaconda/lib/python3.6/site-packages/sklearn/neural_network/multilayer_perceptron.py:563: ConvergenceWarning: Stochastic Optimizer: Maximum iterations reached and the optimization hasn't converged yet.\n",
      "  % (), ConvergenceWarning)\n"
     ]
    },
    {
     "name": "stdout",
     "output_type": "stream",
     "text": [
      "\n",
      "Model Report\n",
      "Accuracy(train): 1\n",
      "Accuracy(test) : 0.6722\n",
      "CV Score : Mean - 0.664 | Std - 0.0444922 \n"
     ]
    },
    {
     "name": "stderr",
     "output_type": "stream",
     "text": [
      "/anaconda/lib/python3.6/site-packages/sklearn/neural_network/multilayer_perceptron.py:563: ConvergenceWarning: Stochastic Optimizer: Maximum iterations reached and the optimization hasn't converged yet.\n",
      "  % (), ConvergenceWarning)\n"
     ]
    }
   ],
   "source": [
    "########################################SIFT FEATURE#####################################################\n",
    "print(\"SIFT Feature\")\n",
    "model_performance(mlp, data=data4, dtrain=training4, dtest=testing4, predictors=pred4)"
   ]
  },
  {
   "cell_type": "code",
   "execution_count": null,
   "metadata": {
    "collapsed": true
   },
   "outputs": [],
   "source": []
  }
 ],
 "metadata": {
  "kernelspec": {
   "display_name": "Python 3",
   "language": "python",
   "name": "python3"
  },
  "language_info": {
   "codemirror_mode": {
    "name": "ipython",
    "version": 3
   },
   "file_extension": ".py",
   "mimetype": "text/x-python",
   "name": "python",
   "nbconvert_exporter": "python",
   "pygments_lexer": "ipython3",
   "version": "3.6.1"
  }
 },
 "nbformat": 4,
 "nbformat_minor": 2
}
