{
 "cells": [
  {
   "cell_type": "code",
   "execution_count": 1,
   "metadata": {},
   "outputs": [
    {
     "name": "stderr",
     "output_type": "stream",
     "text": [
      "/anaconda/lib/python3.6/site-packages/sklearn/cross_validation.py:44: DeprecationWarning: This module was deprecated in version 0.18 in favor of the model_selection module into which all the refactored classes and functions are moved. Also note that the interface of the new CV iterators are different from that of this module. This module will be removed in 0.20.\n",
      "  \"This module will be removed in 0.20.\", DeprecationWarning)\n"
     ]
    }
   ],
   "source": [
    "import pandas as pd\n",
    "import numpy as np\n",
    "import matplotlib.pyplot as plt\n",
    "from pandas import DataFrame\n",
    "import sklearn.neural_network\n",
    "from sklearn.neural_network import MLPClassifier\n",
    "from sklearn import cross_validation, metrics \n",
    "import time"
   ]
  },
  {
   "cell_type": "code",
   "execution_count": 2,
   "metadata": {
    "collapsed": true
   },
   "outputs": [],
   "source": [
    "input_path1 = '/Users/linhan/Desktop/semester 3/ADS/Fall2017-project3-fall2017-project3-grp7/output/hsv_training.csv'\n",
    "training1 = pd.read_csv(input_path1)\n",
    "input_path2 = '/Users/linhan/Desktop/semester 3/ADS/Fall2017-project3-fall2017-project3-grp7/output/hsv_testing.csv'\n",
    "testing1= pd.read_csv(input_path2)\n",
    "input_path3 = '/Users/linhan/Desktop/semester 3/ADS/Fall2017-project3-fall2017-project3-grp7/output/hsv_feature.csv'\n",
    "data1 = pd.read_csv(input_path3)"
   ]
  },
  {
   "cell_type": "code",
   "execution_count": 3,
   "metadata": {
    "collapsed": true
   },
   "outputs": [],
   "source": [
    "input_path11 = '/Users/linhan/Desktop/semester 3/ADS/Fall2017-project3-fall2017-project3-grp7/output/rgb_training1.csv'\n",
    "training2 = pd.read_csv(input_path11)\n",
    "input_path22 = '/Users/linhan/Desktop/semester 3/ADS/Fall2017-project3-fall2017-project3-grp7/output/rgb_testing1.csv'\n",
    "testing2= pd.read_csv(input_path22)\n",
    "input_path33 = '/Users/linhan/Desktop/semester 3/ADS/Fall2017-project3-fall2017-project3-grp7/output/rgb_feature1.csv'\n",
    "data2 = pd.read_csv(input_path33)"
   ]
  },
  {
   "cell_type": "code",
   "execution_count": 4,
   "metadata": {
    "collapsed": true
   },
   "outputs": [],
   "source": [
    "training5 = pd.read_csv('/Users/linhan/Desktop/semester 3/ADS/Fall2017-project3-fall2017-project3-grp7/output/rgb_training.csv')\n",
    "testing5= pd.read_csv('/Users/linhan/Desktop/semester 3/ADS/Fall2017-project3-fall2017-project3-grp7/output/rgb_testing.csv')\n",
    "data5 = pd.read_csv('/Users/linhan/Desktop/semester 3/ADS/Fall2017-project3-fall2017-project3-grp7/output/rgb_feature.csv')"
   ]
  },
  {
   "cell_type": "code",
   "execution_count": 5,
   "metadata": {
    "collapsed": true
   },
   "outputs": [],
   "source": [
    "training6 = pd.read_csv('/Users/linhan/Desktop/semester 3/ADS/Fall2017-project3-fall2017-project3-grp7/output/rgb_training2.csv')\n",
    "testing6= pd.read_csv('/Users/linhan/Desktop/semester 3/ADS/Fall2017-project3-fall2017-project3-grp7/output/rgb_testing2.csv')\n",
    "data6 = pd.read_csv('/Users/linhan/Desktop/semester 3/ADS/Fall2017-project3-fall2017-project3-grp7/output/rgb_feature2.csv')"
   ]
  },
  {
   "cell_type": "code",
   "execution_count": 6,
   "metadata": {
    "collapsed": true
   },
   "outputs": [],
   "source": [
    "input_path111 = '/Users/linhan/Desktop/semester 3/ADS/Fall2017-project3-fall2017-project3-grp7/output/hog_training.csv'\n",
    "training3 = pd.read_csv(input_path111)\n",
    "input_path222 = '/Users/linhan/Desktop/semester 3/ADS/Fall2017-project3-fall2017-project3-grp7/output/hog_testing.csv'\n",
    "testing3= pd.read_csv(input_path222)\n",
    "input_path333 = '/Users/linhan/Desktop/semester 3/ADS/Fall2017-project3-fall2017-project3-grp7/output/hog_feature.csv'\n",
    "data3 = pd.read_csv(input_path333)"
   ]
  },
  {
   "cell_type": "code",
   "execution_count": 7,
   "metadata": {
    "collapsed": true
   },
   "outputs": [],
   "source": [
    "input_path1111 = '/Users/linhan/Desktop/semester 3/ADS/Fall2017-project3-fall2017-project3-grp7/output/sift_training.csv'\n",
    "training4 = pd.read_csv(input_path1111)\n",
    "input_path2222 = '/Users/linhan/Desktop/semester 3/ADS/Fall2017-project3-fall2017-project3-grp7/output/sift_testing.csv'\n",
    "testing4= pd.read_csv(input_path2222)\n",
    "input_path3333 = '/Users/linhan/Desktop/semester 3/ADS/Fall2017-project3-fall2017-project3-grp7/output/sift_feature.csv'\n",
    "data4 = pd.read_csv(input_path3333)"
   ]
  },
  {
   "cell_type": "code",
   "execution_count": 33,
   "metadata": {
    "collapsed": true
   },
   "outputs": [],
   "source": [
    "#input_path1 = '/Users/linhan/Desktop/Fall2017-project3-fall2017-project3-grp7/data/training.csv'\n",
    "#training = pd.read_csv(input_path1)\n",
    "#input_path2 = '/Users/linhan/Desktop/Fall2017-project3-fall2017-project3-grp7/data/testing.csv'\n",
    "#testing= pd.read_csv(input_path2)\n",
    "#input_path3 = '/Users/linhan/Desktop/Fall2017-project3-fall2017-project3-grp7/data/alldata.csv'\n",
    "#data = pd.read_csv(input_path3)"
   ]
  },
  {
   "cell_type": "code",
   "execution_count": 34,
   "metadata": {
    "collapsed": true
   },
   "outputs": [],
   "source": [
    "#colsToDrop = ['Unnamed: 0']\n",
    "#training = training.drop(colsToDrop, axis=1)\n",
    "#testing= testing.drop(colsToDrop, axis=1)\n",
    "#data= data.drop(colsToDrop, axis=1)"
   ]
  },
  {
   "cell_type": "code",
   "execution_count": 18,
   "metadata": {
    "collapsed": true
   },
   "outputs": [],
   "source": [
    "####Cross-Validation Method\n",
    "def model_performance(alg, data, dtrain, dtest, predictors, performCV= True, printFeatureImportance= True, cv_folds=10):\n",
    "    #Fit the algorithm on the data\n",
    "    alg.fit(dtrain[predictors], dtrain['y'])\n",
    "        \n",
    "    dtrain_predictions = alg.predict(dtrain[predictors])\n",
    "    dtest_predictions = alg.predict(dtest[predictors])\n",
    "    \n",
    "    #Perform cross-validation:\n",
    "    if performCV:\n",
    "        cv_score = cross_validation.cross_val_score(alg, data[predictors], data['y'], cv=cv_folds)\n",
    "    \n",
    "    #Print model report:\n",
    "    print (\"\\nModel Report\")\n",
    "    print (\"Accuracy(train): %.4g\" % metrics.accuracy_score(dtrain['y'].values, dtrain_predictions))\n",
    "    print (\"Accuracy(test) : %.4g\" % metrics.accuracy_score(dtest['y'].values, dtest_predictions))\n",
    "    if performCV:\n",
    "        print (\"CV Score : Mean - %.7g | Std - %.7g \" % (np.mean(cv_score),np.std(cv_score)))"
   ]
  },
  {
   "cell_type": "code",
   "execution_count": 19,
   "metadata": {
    "collapsed": true
   },
   "outputs": [],
   "source": [
    "target = 'y'\n",
    "IDcol = 'ID'\n",
    "pred1 = [x for x in training1.columns if x not in [target, IDcol]]\n",
    "pred2 = [x for x in training2.columns if x not in [target, IDcol]]\n",
    "pred3 = [x for x in training3.columns if x not in [target, IDcol]]\n",
    "pred4 = [x for x in training4.columns if x not in [target, IDcol]]\n",
    "pred5 = [x for x in training5.columns if x not in [target, IDcol]]\n",
    "pred6 = [x for x in training6.columns if x not in [target, IDcol]]"
   ]
  },
  {
   "cell_type": "code",
   "execution_count": 10,
   "metadata": {},
   "outputs": [
    {
     "data": {
      "text/plain": [
       "360"
      ]
     },
     "execution_count": 10,
     "metadata": {},
     "output_type": "execute_result"
    }
   ],
   "source": [
    "len(pred1) #####hsv"
   ]
  },
  {
   "cell_type": "code",
   "execution_count": 11,
   "metadata": {},
   "outputs": [
    {
     "data": {
      "text/plain": [
       "800"
      ]
     },
     "execution_count": 11,
     "metadata": {},
     "output_type": "execute_result"
    }
   ],
   "source": [
    "len(pred5)######rgb"
   ]
  },
  {
   "cell_type": "code",
   "execution_count": 12,
   "metadata": {},
   "outputs": [
    {
     "data": {
      "text/plain": [
       "1440"
      ]
     },
     "execution_count": 12,
     "metadata": {},
     "output_type": "execute_result"
    }
   ],
   "source": [
    "len(pred2)#######rgb1"
   ]
  },
  {
   "cell_type": "code",
   "execution_count": 13,
   "metadata": {},
   "outputs": [
    {
     "data": {
      "text/plain": [
       "600"
      ]
     },
     "execution_count": 13,
     "metadata": {},
     "output_type": "execute_result"
    }
   ],
   "source": [
    "len(pred6)########rgb2"
   ]
  },
  {
   "cell_type": "code",
   "execution_count": 14,
   "metadata": {},
   "outputs": [
    {
     "data": {
      "text/plain": [
       "576"
      ]
     },
     "execution_count": 14,
     "metadata": {},
     "output_type": "execute_result"
    }
   ],
   "source": [
    "len(pred3)########hog"
   ]
  },
  {
   "cell_type": "code",
   "execution_count": 15,
   "metadata": {},
   "outputs": [
    {
     "data": {
      "text/plain": [
       "5000"
      ]
     },
     "execution_count": 15,
     "metadata": {},
     "output_type": "execute_result"
    }
   ],
   "source": [
    "len(pred4)########sift"
   ]
  },
  {
   "cell_type": "code",
   "execution_count": 20,
   "metadata": {},
   "outputs": [
    {
     "name": "stderr",
     "output_type": "stream",
     "text": [
      "/anaconda/lib/python3.6/site-packages/sklearn/neural_network/multilayer_perceptron.py:563: ConvergenceWarning: Stochastic Optimizer: Maximum iterations reached and the optimization hasn't converged yet.\n",
      "  % (), ConvergenceWarning)\n"
     ]
    },
    {
     "name": "stdout",
     "output_type": "stream",
     "text": [
      "\n",
      "Model Report\n",
      "Accuracy(train): 0.9048\n",
      "Accuracy(test) : 0.74\n",
      "CV Score : Mean - 0.759 | Std - 0.0239467 \n"
     ]
    },
    {
     "name": "stderr",
     "output_type": "stream",
     "text": [
      "/anaconda/lib/python3.6/site-packages/sklearn/neural_network/multilayer_perceptron.py:563: ConvergenceWarning: Stochastic Optimizer: Maximum iterations reached and the optimization hasn't converged yet.\n",
      "  % (), ConvergenceWarning)\n",
      "/anaconda/lib/python3.6/site-packages/sklearn/neural_network/multilayer_perceptron.py:563: ConvergenceWarning: Stochastic Optimizer: Maximum iterations reached and the optimization hasn't converged yet.\n",
      "  % (), ConvergenceWarning)\n",
      "/anaconda/lib/python3.6/site-packages/sklearn/neural_network/multilayer_perceptron.py:563: ConvergenceWarning: Stochastic Optimizer: Maximum iterations reached and the optimization hasn't converged yet.\n",
      "  % (), ConvergenceWarning)\n"
     ]
    },
    {
     "name": "stdout",
     "output_type": "stream",
     "text": [
      "\n",
      "Model Report\n",
      "Accuracy(train): 0.9067\n",
      "Accuracy(test) : 0.7478\n",
      "CV Score : Mean - 0.7633333 | Std - 0.02485514 \n",
      "\n",
      "Model Report\n",
      "Accuracy(train): 0.8771\n",
      "Accuracy(test) : 0.7433\n",
      "CV Score : Mean - 0.7626667 | Std - 0.02984404 \n"
     ]
    },
    {
     "name": "stderr",
     "output_type": "stream",
     "text": [
      "/anaconda/lib/python3.6/site-packages/sklearn/neural_network/multilayer_perceptron.py:563: ConvergenceWarning: Stochastic Optimizer: Maximum iterations reached and the optimization hasn't converged yet.\n",
      "  % (), ConvergenceWarning)\n",
      "/anaconda/lib/python3.6/site-packages/sklearn/neural_network/multilayer_perceptron.py:563: ConvergenceWarning: Stochastic Optimizer: Maximum iterations reached and the optimization hasn't converged yet.\n",
      "  % (), ConvergenceWarning)\n"
     ]
    },
    {
     "name": "stdout",
     "output_type": "stream",
     "text": [
      "\n",
      "Model Report\n",
      "Accuracy(train): 0.9143\n",
      "Accuracy(test) : 0.75\n",
      "CV Score : Mean - 0.7653333 | Std - 0.02679967 \n"
     ]
    },
    {
     "name": "stderr",
     "output_type": "stream",
     "text": [
      "/anaconda/lib/python3.6/site-packages/sklearn/neural_network/multilayer_perceptron.py:563: ConvergenceWarning: Stochastic Optimizer: Maximum iterations reached and the optimization hasn't converged yet.\n",
      "  % (), ConvergenceWarning)\n",
      "/anaconda/lib/python3.6/site-packages/sklearn/neural_network/multilayer_perceptron.py:563: ConvergenceWarning: Stochastic Optimizer: Maximum iterations reached and the optimization hasn't converged yet.\n",
      "  % (), ConvergenceWarning)\n"
     ]
    },
    {
     "name": "stdout",
     "output_type": "stream",
     "text": [
      "\n",
      "Model Report\n",
      "Accuracy(train): 0.8714\n",
      "Accuracy(test) : 0.7367\n",
      "CV Score : Mean - 0.7646667 | Std - 0.02712932 \n",
      "\n",
      "Model Report\n",
      "Accuracy(train): 0.9067\n",
      "Accuracy(test) : 0.7389\n",
      "CV Score : Mean - 0.77 | Std - 0.02966479 \n"
     ]
    },
    {
     "name": "stderr",
     "output_type": "stream",
     "text": [
      "/anaconda/lib/python3.6/site-packages/sklearn/neural_network/multilayer_perceptron.py:563: ConvergenceWarning: Stochastic Optimizer: Maximum iterations reached and the optimization hasn't converged yet.\n",
      "  % (), ConvergenceWarning)\n"
     ]
    },
    {
     "name": "stdout",
     "output_type": "stream",
     "text": [
      "\n",
      "Model Report\n",
      "Accuracy(train): 0.9343\n",
      "Accuracy(test) : 0.7456\n",
      "CV Score : Mean - 0.765 | Std - 0.02522124 \n",
      "\n",
      "Model Report\n",
      "Accuracy(train): 0.8629\n",
      "Accuracy(test) : 0.7444\n",
      "CV Score : Mean - 0.7673333 | Std - 0.02661662 \n",
      "\n",
      "Model Report\n",
      "Accuracy(train): 0.9333\n",
      "Accuracy(test) : 0.7489\n",
      "CV Score : Mean - 0.763 | Std - 0.02287405 \n",
      "\n",
      "Model Report\n",
      "Accuracy(train): 0.8619\n",
      "Accuracy(test) : 0.7344\n",
      "CV Score : Mean - 0.769 | Std - 0.02150194 \n"
     ]
    }
   ],
   "source": [
    "for i in range(100,200,10):\n",
    "    mlp = MLPClassifier(hidden_layer_sizes=(i, ), activation='relu', solver='adam', alpha=0.001, \n",
    "                    batch_size='auto', learning_rate='constant', learning_rate_init=0.001, power_t=0.5, max_iter= 500, \n",
    "                    shuffle=False, random_state=50, tol=0.0001, verbose=False, warm_start=False, momentum=0.9,\n",
    "                    nesterovs_momentum=True, early_stopping=False, validation_fraction=0.3, \n",
    "                    beta_1=0.9, beta_2=0.99,epsilon=1e-08)\n",
    "    model_performance(mlp, data=data1, dtrain=training1, dtest=testing1, predictors=pred1)"
   ]
  },
  {
   "cell_type": "code",
   "execution_count": 16,
   "metadata": {
    "collapsed": true
   },
   "outputs": [],
   "source": [
    "mlp = MLPClassifier(hidden_layer_sizes=(150, ), activation='relu', solver='adam', alpha=0.001, \n",
    "                    batch_size='auto', learning_rate='constant', learning_rate_init=0.001, power_t=0.5, max_iter= 500, \n",
    "                    shuffle=False, random_state=50, tol=0.0001, verbose=False, warm_start=False, momentum=0.9,\n",
    "                    nesterovs_momentum=True, early_stopping=False, validation_fraction=0.3, \n",
    "                    beta_1=0.9, beta_2=0.99,epsilon=1e-08)"
   ]
  },
  {
   "cell_type": "code",
   "execution_count": 33,
   "metadata": {
    "scrolled": true
   },
   "outputs": [
    {
     "name": "stdout",
     "output_type": "stream",
     "text": [
      "\n",
      "Model Report\n",
      "Accuracy(train): 0.9067\n",
      "Accuracy(test) : 0.7389\n",
      "CV Score : Mean - 0.77 | Std - 0.02966479 \n",
      "The results of HSV Feature\n",
      "366.6126730000001 seconds\n"
     ]
    }
   ],
   "source": [
    "#########################HSV FEATURE################################\n",
    "start_time = time.clock()\n",
    "model_performance(mlp, data=data1, dtrain=training1, dtest=testing1, predictors=pred1)\n",
    "print(\"The results of HSV Feature\")\n",
    "print(time.clock() - start_time, \"seconds\") "
   ]
  },
  {
   "cell_type": "code",
   "execution_count": 17,
   "metadata": {},
   "outputs": [
    {
     "name": "stdout",
     "output_type": "stream",
     "text": [
      "\n",
      "Model Report\n",
      "Accuracy(train): 0.9448\n",
      "Accuracy(test) : 0.7656\n",
      "CV Score : Mean - 0.7783333 | Std - 0.02557125 \n",
      "The results of RGB(8*10*10)\n",
      "614.3179 seconds\n"
     ]
    }
   ],
   "source": [
    "########################RGB##############################\n",
    "start_time = time.clock()\n",
    "model_performance(mlp, data=data5, dtrain=training5, dtest=testing5, predictors=pred5)\n",
    "print(\"The results of RGB(8*10*10)\")\n",
    "print(time.clock() - start_time, \"seconds\") "
   ]
  },
  {
   "cell_type": "code",
   "execution_count": 18,
   "metadata": {},
   "outputs": [
    {
     "name": "stdout",
     "output_type": "stream",
     "text": [
      "\n",
      "Model Report\n",
      "Accuracy(train): 0.9586\n",
      "Accuracy(test) : 0.7422\n",
      "CV Score : Mean - 0.7623333 | Std - 0.017 \n",
      "The results of RGB1(10*12*12) Feature\n",
      "1020.4943309999999 seconds\n"
     ]
    }
   ],
   "source": [
    "#############################RGB1 FEATURE################################\n",
    "start_time = time.clock()\n",
    "model_performance(mlp, data=data2, dtrain=training2, dtest=testing2, predictors=pred2)\n",
    "print(\"The results of RGB1(10*12*12) Feature\")\n",
    "print(time.clock() - start_time, \"seconds\") "
   ]
  },
  {
   "cell_type": "code",
   "execution_count": 19,
   "metadata": {},
   "outputs": [
    {
     "name": "stdout",
     "output_type": "stream",
     "text": [
      "\n",
      "Model Report\n",
      "Accuracy(train): 0.931\n",
      "Accuracy(test) : 0.7678\n",
      "CV Score : Mean - 0.776 | Std - 0.01998889 \n",
      "The results of RGB2(8*10*10)\n",
      "476.5118319999999 seconds\n"
     ]
    }
   ],
   "source": [
    "########################RGB2##############################\n",
    "start_time = time.clock()\n",
    "model_performance(mlp, data=data6, dtrain=training6, dtest=testing6, predictors=pred6)\n",
    "print(\"The results of RGB2(8*10*10)\")\n",
    "print(time.clock() - start_time, \"seconds\") "
   ]
  },
  {
   "cell_type": "code",
   "execution_count": null,
   "metadata": {},
   "outputs": [
    {
     "name": "stdout",
     "output_type": "stream",
     "text": [
      "\n",
      "Model Report\n",
      "Accuracy(train): 0.8462\n",
      "Accuracy(test) : 0.8067\n",
      "CV Score : Mean - 0.822 | Std - 0.01146977 \n",
      "The results of HOG Feature\n",
      "403.92414599999984 seconds\n"
     ]
    }
   ],
   "source": [
    "#######################################HOG FEATURE########################################\n",
    "start_time = time.clock()\n",
    "model_performance(mlp, data=data3, dtrain=training3, dtest=testing3, predictors=pred3)\n",
    "print(\"The results of HOG Feature\")\n",
    "print(time.clock() - start_time, \"seconds\") "
   ]
  },
  {
   "cell_type": "code",
   "execution_count": 17,
   "metadata": {},
   "outputs": [
    {
     "name": "stdout",
     "output_type": "stream",
     "text": [
      "\n",
      "Model Report\n",
      "Accuracy(train): 1\n",
      "Accuracy(test) : 0.7467\n",
      "CV Score : Mean - 0.731 | Std - 0.02027861 \n",
      "The result of SIFT Feature\n",
      "3989.315961 seconds\n"
     ]
    }
   ],
   "source": [
    "########################################SIFT FEATURE#####################################################\n",
    "start_time = time.clock()\n",
    "model_performance(mlp, data=data4, dtrain=training4, dtest=testing4, predictors=pred4)\n",
    "print(\"The result of SIFT Feature\")\n",
    "print(time.clock() - start_time, \"seconds\") "
   ]
  },
  {
   "cell_type": "code",
   "execution_count": null,
   "metadata": {
    "collapsed": true
   },
   "outputs": [],
   "source": []
  }
 ],
 "metadata": {
  "kernelspec": {
   "display_name": "Python 3",
   "language": "python",
   "name": "python3"
  },
  "language_info": {
   "codemirror_mode": {
    "name": "ipython",
    "version": 3
   },
   "file_extension": ".py",
   "mimetype": "text/x-python",
   "name": "python",
   "nbconvert_exporter": "python",
   "pygments_lexer": "ipython3",
   "version": "3.6.1"
  }
 },
 "nbformat": 4,
 "nbformat_minor": 2
}
